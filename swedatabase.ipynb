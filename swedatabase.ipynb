{
 "cells": [
  {
   "cell_type": "code",
   "execution_count": 1,
   "metadata": {},
   "outputs": [
    {
     "name": "stdout",
     "output_type": "stream",
     "text": [
      "Collecting mysql-connector-pythonNote: you may need to restart the kernel to use updated packages.\n",
      "\n",
      "  Downloading mysql_connector_python-8.1.0-cp38-cp38-win_amd64.whl (10.8 MB)\n",
      "Collecting protobuf<=4.21.12,>=4.21.1\n",
      "  Downloading protobuf-4.21.12-cp38-cp38-win_amd64.whl (527 kB)\n",
      "Installing collected packages: protobuf, mysql-connector-python\n",
      "Successfully installed mysql-connector-python-8.1.0 protobuf-4.21.12\n"
     ]
    },
    {
     "name": "stderr",
     "output_type": "stream",
     "text": [
      "WARNING: You are using pip version 21.1.1; however, version 23.2.1 is available.\n",
      "You should consider upgrading via the 'C:\\Users\\natos\\AppData\\Local\\Microsoft\\WindowsApps\\PythonSoftwareFoundation.Python.3.8_qbz5n2kfra8p0\\python.exe -m pip install --upgrade pip' command.\n"
     ]
    }
   ],
   "source": [
    "pip install mysql-connector-python"
   ]
  },
  {
   "cell_type": "code",
   "execution_count": 1,
   "metadata": {},
   "outputs": [],
   "source": [
    "import mysql.connector\n"
   ]
  },
  {
   "cell_type": "code",
   "execution_count": 3,
   "metadata": {},
   "outputs": [],
   "source": [
    "import pyodbc\n",
    "import pandas as pd\n"
   ]
  },
  {
   "cell_type": "code",
   "execution_count": 7,
   "metadata": {},
   "outputs": [],
   "source": [
    "server = 'LAPTOP-NAOMI'\n",
    "database = 'CircleItems'\n",
    "username = 'database1'\n",
    "password = 'circle1'\n",
    "\n",
    "conn_str = (\n",
    "    f'DRIVER={{SQL Server}};'\n",
    "    f'SERVER={server};'\n",
    "    f'DATABASE={database};'\n",
    "    f'UID={username};'\n",
    "    f'PWD={password};'\n",
    "    \n",
    ")\n",
    "\n",
    "connection = pyodbc.connect(conn_str)\n",
    "\n"
   ]
  },
  {
   "cell_type": "code",
   "execution_count": null,
   "metadata": {},
   "outputs": [],
   "source": []
  },
  {
   "cell_type": "code",
   "execution_count": 10,
   "metadata": {},
   "outputs": [
    {
     "ename": "ProgrammingError",
     "evalue": "('42S01', \"[42S01] [Microsoft][ODBC SQL Server Driver][SQL Server]There is already an object named 'Category1' in the database. (2714) (SQLExecDirectW)\")",
     "output_type": "error",
     "traceback": [
      "\u001b[1;31m---------------------------------------------------------------------------\u001b[0m",
      "\u001b[1;31mProgrammingError\u001b[0m                          Traceback (most recent call last)",
      "\u001b[1;32mc:\\Users\\natos\\swedatabase.ipynb Cell 5\u001b[0m line \u001b[0;36m1\n\u001b[0;32m      <a href='vscode-notebook-cell:/c%3A/Users/natos/swedatabase.ipynb#X11sZmlsZQ%3D%3D?line=0'>1</a>\u001b[0m cursor \u001b[39m=\u001b[39m connection\u001b[39m.\u001b[39mcursor()\n\u001b[0;32m      <a href='vscode-notebook-cell:/c%3A/Users/natos/swedatabase.ipynb#X11sZmlsZQ%3D%3D?line=2'>3</a>\u001b[0m create_table_query \u001b[39m=\u001b[39m \u001b[39m'''\u001b[39m\n\u001b[0;32m      <a href='vscode-notebook-cell:/c%3A/Users/natos/swedatabase.ipynb#X11sZmlsZQ%3D%3D?line=3'>4</a>\u001b[0m \u001b[39mCREATE TABLE Category1 (\u001b[39m\n\u001b[0;32m      <a href='vscode-notebook-cell:/c%3A/Users/natos/swedatabase.ipynb#X11sZmlsZQ%3D%3D?line=4'>5</a>\u001b[0m \u001b[39m    category_id INT PRIMARY KEY,\u001b[39m\n\u001b[0;32m      <a href='vscode-notebook-cell:/c%3A/Users/natos/swedatabase.ipynb#X11sZmlsZQ%3D%3D?line=5'>6</a>\u001b[0m \u001b[39m    category_name VARCHAR(255) NOT NULL\u001b[39m\n\u001b[0;32m      <a href='vscode-notebook-cell:/c%3A/Users/natos/swedatabase.ipynb#X11sZmlsZQ%3D%3D?line=6'>7</a>\u001b[0m \u001b[39m)\u001b[39m\n\u001b[0;32m      <a href='vscode-notebook-cell:/c%3A/Users/natos/swedatabase.ipynb#X11sZmlsZQ%3D%3D?line=7'>8</a>\u001b[0m \u001b[39m'''\u001b[39m\n\u001b[1;32m---> <a href='vscode-notebook-cell:/c%3A/Users/natos/swedatabase.ipynb#X11sZmlsZQ%3D%3D?line=9'>10</a>\u001b[0m cursor\u001b[39m.\u001b[39mexecute(create_table_query)\n\u001b[0;32m     <a href='vscode-notebook-cell:/c%3A/Users/natos/swedatabase.ipynb#X11sZmlsZQ%3D%3D?line=10'>11</a>\u001b[0m connection\u001b[39m.\u001b[39mcommit()\n",
      "\u001b[1;31mProgrammingError\u001b[0m: ('42S01', \"[42S01] [Microsoft][ODBC SQL Server Driver][SQL Server]There is already an object named 'Category1' in the database. (2714) (SQLExecDirectW)\")"
     ]
    }
   ],
   "source": [
    "-- DONT RUN\n",
    "-- CREATE TABLE HERE \n",
    "cursor = connection.cursor()\n",
    "\n",
    "create_table_query = '''\n",
    "CREATE TABLE Category1 (\n",
    "    category_id INT PRIMARY KEY,\n",
    "    category_name VARCHAR(255) NOT NULL\n",
    ")\n",
    "'''\n",
    "\n",
    "cursor.execute(create_table_query)\n",
    "connection.commit()\n"
   ]
  },
  {
   "cell_type": "code",
   "execution_count": null,
   "metadata": {},
   "outputs": [],
   "source": [
    "-- RUN: create your tables here: replace my items infor name with yours but the variables can stay the same\n",
    "-- CREATING SUB CATEGORIS TABLE FOR ITEMS \n",
    "cursor = connection.cursor()\n",
    "\n",
    "create_table_query = '''\n",
    "CREATE TABLE ELECTRONICsubcat (\n",
    "    subcategory_id INT PRIMARY KEY,\n",
    "    subcategory_name VARCHAR(255) NOT NULL,\n",
    "    category_id INT,\n",
    "    FOREIGN KEY (category_id) REFERENCES Category(category_id)\n",
    ")\n",
    "\n",
    "\n",
    "-- Create the ElectronicItems table to store electronic item details.\n",
    "CREATE TABLE ElectronicItems (\n",
    "    electronic_item_id INT PRIMARY KEY,\n",
    "    item_name VARCHAR(255) NOT NULL,\n",
    "    subcategory_id INT,\n",
    "    material VARCHAR(255),\n",
    "    reuse_info VARCHAR(255),\n",
    "    recycle_info VARCHAR(255),\n",
    "    reduce_info VARCHAR(255),\n",
    "    money_generation_info VARCHAR(255),\n",
    "    eco_rating INT,\n",
    "    eco_friendly_company VARCHAR(255),\n",
    "    FOREIGN KEY (subcategory_id) REFERENCES Subcategory(subcategory_id)\n",
    ")\n",
    "\n",
    "\n",
    "-- Create the Subcategory table to represent subcategories within Kitchen.\n",
    "CREATE TABLE KitchenSubcategory (\n",
    "    kitchen_subcategory_id INT PRIMARY KEY,\n",
    "    kitchen_subcategory_name VARCHAR(255) NOT NULL,\n",
    "    category_id INT,\n",
    "    FOREIGN KEY (category_id) REFERENCES Category(category_id)\n",
    ")\n",
    "\n",
    "\n",
    "-- Create the KitchenItems table to store kitchen item details.\n",
    "CREATE TABLE KitchenItems (\n",
    "    kitchen_item_id INT PRIMARY KEY,\n",
    "    item_name VARCHAR(255) NOT NULL,\n",
    "    kitchen_subcategory_id INT,\n",
    "    material VARCHAR(255),\n",
    "    reuse_info VARCHAR(255),\n",
    "    recycle_info VARCHAR(255),\n",
    "    reduce_info VARCHAR(255),\n",
    "    money_generation_info VARCHAR(255),\n",
    "    eco_rating INT,\n",
    "    eco_friendly_company VARCHAR(255),\n",
    "    FOREIGN KEY (kitchen_subcategory_id) REFERENCES KitchenSubcategory(kitchen_subcategory_id)\n",
    ")\n",
    "'''\n",
    "\n",
    "cursor.execute(create_table_query)\n",
    "connection.commit()\n"
   ]
  },
  {
   "cell_type": "code",
   "execution_count": null,
   "metadata": {},
   "outputs": [],
   "source": [
    "-- RUN:create a new block, add the category here for the big items table: change items to your items because the database already has my items \n",
    "-- INSERTING DIFFERENT CATEGORIES INTO CATEGORIES TABLE(BIG TABLE)\n",
    "cursor = connection.cursor()\n",
    "\n",
    "create_table_query = '''\n",
    "INSERT INTO Category (category_id, category_name) VALUES\n",
    "    (1, 'Electronics'),\n",
    "    (2, 'Kitchen');\n",
    ")\n",
    "\n",
    "\n",
    "INSERT INTO KitchenSubcategory (kitchen_subcategory_id, kitchen_subcategory_name, category_id) VALUES\n",
    "    (1, 'Cookware', 2),\n",
    "    (2, 'Food Storage', 2),\n",
    "    (3, 'Utensils', 2);\n",
    "\n",
    "INSERT INTO KitchenItems (kitchen item varibles here ) VALUES\n",
    "    (1, 'Cookware', 2),\n",
    "    (2, 'Food Storage', 2),\n",
    "    (3, 'Utensils', 2);\n",
    "\n",
    "\n",
    "\n",
    "'''\n",
    "\n",
    "cursor.execute(create_table_query)\n",
    "connection.commit()\n",
    "\n"
   ]
  },
  {
   "cell_type": "code",
   "execution_count": null,
   "metadata": {},
   "outputs": [],
   "source": [
    "-- dump here \n",
    "Online SQL Editor to Run SQL Online.\n",
    "-\n",
    "=\n",
    "\n",
    "\n",
    "\n",
    "-- Populate the KitchenSubcategory table with data.\n",
    "INSERT INTO KitchenSubcategory (kitchen_subcategory_id, kitchen_subcategory_name, category_id) VALUES\n",
    "    (1, 'Cookware', 2),\n",
    "    (2, 'Food Storage', 2),\n",
    "    (3, 'Utensils', 2);\n",
    "\n",
    "-- Create the KitchenItems table to store kitchen item details.\n",
    "CREATE TABLE KitchenItems (\n",
    "    kitchen_item_id INT PRIMARY KEY,\n",
    "    item_name VARCHAR(255) NOT NULL,\n",
    "    kitchen_subcategory_id INT,\n",
    "    material VARCHAR(255),\n",
    "    reuse_info VARCHAR(255),\n",
    "    recycle_info VARCHAR(255),\n",
    "    reduce_info VARCHAR(255),\n",
    "    money_generation_info VARCHAR(255),\n",
    "    eco_rating INT,\n",
    "    eco_friendly_company VARCHAR(255),\n",
    "    FOREIGN KEY (kitchen_subcategory_id) REFERENCES KitchenSubcategory(kitchen_subcategory_id)\n",
    ");\n",
    "\n",
    "-- Populate the ElectronicItems and KitchenItems tables with data.\n",
    "-- You can insert your electronic and kitchen item details here.\n",
    "\n",
    "DROP TABLE Customers;\n"
   ]
  },
  {
   "cell_type": "code",
   "execution_count": null,
   "metadata": {},
   "outputs": [],
   "source": []
  },
  {
   "cell_type": "code",
   "execution_count": null,
   "metadata": {},
   "outputs": [],
   "source": []
  },
  {
   "cell_type": "code",
   "execution_count": null,
   "metadata": {},
   "outputs": [],
   "source": []
  },
  {
   "cell_type": "code",
   "execution_count": null,
   "metadata": {},
   "outputs": [],
   "source": []
  }
 ],
 "metadata": {
  "kernelspec": {
   "display_name": "Python 3",
   "language": "python",
   "name": "python3"
  },
  "language_info": {
   "codemirror_mode": {
    "name": "ipython",
    "version": 3
   },
   "file_extension": ".py",
   "mimetype": "text/x-python",
   "name": "python",
   "nbconvert_exporter": "python",
   "pygments_lexer": "ipython3",
   "version": "3.8.10"
  },
  "orig_nbformat": 4
 },
 "nbformat": 4,
 "nbformat_minor": 2
}
